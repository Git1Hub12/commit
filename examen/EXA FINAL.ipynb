{
  "nbformat": 4,
  "nbformat_minor": 0,
  "metadata": {
    "colab": {
      "name": "17160033",
      "version": "0.3.2",
      "provenance": []
    },
    "kernelspec": {
      "name": "python3",
      "display_name": "Python 3"
    }
  },
  "cells": [
    {
      "cell_type": "code",
      "metadata": {
        "id": "6wVTw0mxRWwF",
        "colab_type": "code",
        "colab": {}
      },
      "source": [
        "#1.PREGUNTAS"
      ],
      "execution_count": 0,
      "outputs": []
    },
    {
      "cell_type": "code",
      "metadata": {
        "id": "Y_3LlWiQRfdn",
        "colab_type": "code",
        "colab": {}
      },
      "source": [
        "#1.1 ¿Cuál es la diferencia entre indexación e identación?\n",
        "     Identación: Es utilizado para mover bloques de textos hacia la derecha\n",
        "     INDEXACIÓN: es para poder llamar a las cabeceras\n",
        "#1.2 DIFERENCIA ENTRE PYTHON 2 Y PYTHON3 \n",
        "     PYTHON2 : su división siempre resulta en un número entero, a menos que la división este como flotante. Tiene \"xrange()\" a diferencia del python 3 que no tiene esa función.\n",
        "               Podemos usar para iterar los elementos claves-valor de un diccipnario podemos utiliazr el método itenm() y el  iteritems().\n",
        "      PYTHON3 : El resultado de la división es solo flotante, algunos métodos y funciones retonrnan objetos iterables en lugar de listas. \n",
        "                Se puede utilizar solo el item(), mas no iteritems()\n",
        "#1.3 MENCIONAR FORMATOS ESPACIALES\n",
        "  SHAPE\n",
        "  Base de datos espaciales\n",
        "  CSV/GEOCSV Nuevo\n",
        "  GML/XML\n",
        "  GeoPackage\n",
        "  GeoJson \n",
        "  TopoJson\n",
        "  KML/KMZ\n",
        "\n",
        "#1.4  EXPLIQUE 2 librerías para el manejo de datos espaciales\n",
        "   ZIP \n",
        "  JAVASCRIP\n",
        "\n",
        "\n",
        "#1.5  ¿Para qué nos puede servir Google Earth Engine?\n",
        "para almacenamiento de imagenes satelitales , las organiza y les pone disposicion por primera vez para la extraccion de datos a escala global.\n",
        "Incluye imagenes historicas lo cual es muy importante para alamcenamiento."
      ],
      "execution_count": 0,
      "outputs": []
    },
    {
      "cell_type": "code",
      "metadata": {
        "id": "ydSo99HtRznv",
        "colab_type": "code",
        "colab": {}
      },
      "source": [
        "#2.MANIPUALACION DE DATOS ESPACIALES\n",
        "#2.1 Leer el archivo de \"bici_sanisidro.xlsx\" y crear un DataFrame.\n",
        "\n",
        "import pandas as pd\n",
        "dato = pd.read_excel(\"bici_sanisidro.xlsx\")\n",
        "dato"
      ],
      "execution_count": 0,
      "outputs": []
    },
    {
      "cell_type": "code",
      "metadata": {
        "id": "ATCdFVhes_Qw",
        "colab_type": "code",
        "colab": {}
      },
      "source": [
        "lista = []\n",
        "for x in dato[]\n",
        "data[\"bici_sanisidro.xlsx\"\"] = lista"
      ],
      "execution_count": 0,
      "outputs": []
    },
    {
      "cell_type": "code",
      "metadata": {
        "id": "z8-k7CmaSgOf",
        "colab_type": "code",
        "colab": {}
      },
      "source": [
        "#2.2 Hacer una consulta al DataFrame para extraer los estacionamientos que se encuentren en avenidas(\"Av.\") y tengan \"FIERRO\" como material.\n",
        "\n"
      ],
      "execution_count": 0,
      "outputs": []
    },
    {
      "cell_type": "code",
      "metadata": {
        "id": "DVmmhqKzk8dN",
        "colab_type": "code",
        "colab": {}
      },
      "source": [
        "dato1 = dato[[\"UBICACIÓN\", \"Material\"]][:]\n",
        "dato1"
      ],
      "execution_count": 0,
      "outputs": []
    },
    {
      "cell_type": "code",
      "metadata": {
        "id": "rZ-pq5rKm-WG",
        "colab_type": "code",
        "colab": {}
      },
      "source": [
        "lista = []\n",
        "for x in dato[\"UBICACIÓN\"].str.split():\n",
        "    if \"Av.\" in x:\n",
        "       lista.append(\"Si\")\n",
        "    else:\n",
        "       lista.append(\"No\")"
      ],
      "execution_count": 0,
      "outputs": []
    },
    {
      "cell_type": "code",
      "metadata": {
        "id": "hQgZCpZ6nKq2",
        "colab_type": "code",
        "colab": {}
      },
      "source": [
        "dato[\"AVENIDA\"] = lista\n",
        "dato"
      ],
      "execution_count": 0,
      "outputs": []
    },
    {
      "cell_type": "code",
      "metadata": {
        "id": "Zbmzv6OdkNpl",
        "colab_type": "code",
        "colab": {}
      },
      "source": [
        "dato[\"FIERRO\"] = lista\n",
        "dato"
      ],
      "execution_count": 0,
      "outputs": []
    },
    {
      "cell_type": "code",
      "metadata": {
        "id": "ge6FK9mXcCpT",
        "colab_type": "code",
        "colab": {}
      },
      "source": [
        "#2.3 Usando numpy o pandas ¿cuál es la capacidad total de los estacionamientos de la consulta anterior?"
      ],
      "execution_count": 0,
      "outputs": []
    },
    {
      "cell_type": "code",
      "metadata": {
        "id": "dghJ8N3YcJxC",
        "colab_type": "code",
        "colab": {}
      },
      "source": [
        "#2.4 Generar un GeoDataFrame para la consulta a partir de las coordenadas.\n"
      ],
      "execution_count": 0,
      "outputs": []
    },
    {
      "cell_type": "code",
      "metadata": {
        "id": "ZfGr80IfuhjS",
        "colab_type": "code",
        "colab": {}
      },
      "source": [
        "dato[\"COORDENADAS\"][:]"
      ],
      "execution_count": 0,
      "outputs": []
    },
    {
      "cell_type": "code",
      "metadata": {
        "id": "hGDEtUJ9oDAO",
        "colab_type": "code",
        "colab": {}
      },
      "source": [
        "dato1 = dato[\"COORDENADAS\"]\n",
        "def splittear(x):\n",
        "  return float(x.split(\";\")[1])"
      ],
      "execution_count": 0,
      "outputs": []
    },
    {
      "cell_type": "code",
      "metadata": {
        "id": "Dq6-jFcBpLcp",
        "colab_type": "code",
        "colab": {}
      },
      "source": [
        "def split(x):\n",
        "   return x.split(\";\")[1]"
      ],
      "execution_count": 0,
      "outputs": []
    },
    {
      "cell_type": "code",
      "metadata": {
        "id": "SPDLMnsAu4Zh",
        "colab_type": "code",
        "colab": {}
      },
      "source": [
        "Latitud = dato[\"COORDENADAS\"].apply(splittear)\n",
        "Latitud"
      ],
      "execution_count": 0,
      "outputs": []
    },
    {
      "cell_type": "code",
      "metadata": {
        "id": "XWP_g3eMw9SK",
        "colab_type": "code",
        "colab": {}
      },
      "source": [
        "Longitud = dato[\"COORDENADAS\"].apply(splittear)\n",
        "Longitud"
      ],
      "execution_count": 0,
      "outputs": []
    },
    {
      "cell_type": "code",
      "metadata": {
        "id": "Q1s8qcqMtlJD",
        "colab_type": "code",
        "colab": {}
      },
      "source": [
        "dato = dato[\"COORDENADAS\"]\n",
        "def splittear(x):\n",
        "  return float x.split(\";\")[1]"
      ],
      "execution_count": 0,
      "outputs": []
    },
    {
      "cell_type": "code",
      "metadata": {
        "id": "84lJp1ZYpfCO",
        "colab_type": "code",
        "colab": {}
      },
      "source": [
        "def convert(x):\n",
        "  for x in Latitud:\n",
        "  return float()"
      ],
      "execution_count": 0,
      "outputs": []
    },
    {
      "cell_type": "code",
      "metadata": {
        "id": "Fe3MLwA1oQmm",
        "colab_type": "code",
        "colab": {}
      },
      "source": [
        "dato.apply(convert)"
      ],
      "execution_count": 0,
      "outputs": []
    },
    {
      "cell_type": "code",
      "metadata": {
        "id": "bLPuevnjx0db",
        "colab_type": "code",
        "colab": {}
      },
      "source": [
        "dato1 = dato[\"COORDENADAS\"]\n",
        "def splittear(x):\n",
        "  return float(x.split(\";\")[1])"
      ],
      "execution_count": 0,
      "outputs": []
    },
    {
      "cell_type": "code",
      "metadata": {
        "id": "CmT8YAgUviQi",
        "colab_type": "code",
        "colab": {}
      },
      "source": [
        "import pandas as pd\n",
        "from geopandas import GeoDataFrame\n",
        "from shapely.geometry import point\n",
        "import fiona"
      ],
      "execution_count": 0,
      "outputs": []
    },
    {
      "cell_type": "code",
      "metadata": {
        "id": "PtOGTHdivj0x",
        "colab_type": "code",
        "colab": {}
      },
      "source": [
        "geometry = [Point(xy) for xy in zip(dato.Latitud, dato.Longitud)]\n",
        "crs = {'init' : 'epsg:32718'}"
      ],
      "execution_count": 0,
      "outputs": []
    },
    {
      "cell_type": "code",
      "metadata": {
        "id": "k2F6RnL_yWq8",
        "colab_type": "code",
        "colab": {}
      },
      "source": [
        "Longitud.apply(splitear)"
      ],
      "execution_count": 0,
      "outputs": []
    },
    {
      "cell_type": "code",
      "metadata": {
        "id": "v0fsaFY6ybMz",
        "colab_type": "code",
        "colab": {}
      },
      "source": [
        ""
      ],
      "execution_count": 0,
      "outputs": []
    },
    {
      "cell_type": "code",
      "metadata": {
        "id": "aBixXIwkvlL6",
        "colab_type": "code",
        "colab": {
          "base_uri": "https://localhost:8080/",
          "height": 180
        },
        "outputId": "7cd4ddfb-5a88-49b7-ff05-df87e6502a64"
      },
      "source": [
        "geo_df = GeoDataFrame(dato, crs=crs, geometry=geometry)\n",
        "geo_df.head(1)"
      ],
      "execution_count": 286,
      "outputs": [
        {
          "output_type": "error",
          "ename": "NameError",
          "evalue": "ignored",
          "traceback": [
            "\u001b[0;31m---------------------------------------------------------------------------\u001b[0m",
            "\u001b[0;31mNameError\u001b[0m                                 Traceback (most recent call last)",
            "\u001b[0;32m<ipython-input-286-d2ae869c1b15>\u001b[0m in \u001b[0;36m<module>\u001b[0;34m()\u001b[0m\n\u001b[0;32m----> 1\u001b[0;31m \u001b[0mgeo_df\u001b[0m \u001b[0;34m=\u001b[0m \u001b[0mGeoDataFrame\u001b[0m\u001b[0;34m(\u001b[0m\u001b[0mdato\u001b[0m\u001b[0;34m,\u001b[0m \u001b[0mcrs\u001b[0m\u001b[0;34m=\u001b[0m\u001b[0mcrs\u001b[0m\u001b[0;34m,\u001b[0m \u001b[0mgeometry\u001b[0m\u001b[0;34m=\u001b[0m\u001b[0mgeometry\u001b[0m\u001b[0;34m)\u001b[0m\u001b[0;34m\u001b[0m\u001b[0;34m\u001b[0m\u001b[0m\n\u001b[0m\u001b[1;32m      2\u001b[0m \u001b[0mgeo_df\u001b[0m\u001b[0;34m.\u001b[0m\u001b[0mhead\u001b[0m\u001b[0;34m(\u001b[0m\u001b[0;36m1\u001b[0m\u001b[0;34m)\u001b[0m\u001b[0;34m\u001b[0m\u001b[0;34m\u001b[0m\u001b[0m\n",
            "\u001b[0;31mNameError\u001b[0m: name 'crs' is not defined"
          ]
        }
      ]
    },
    {
      "cell_type": "code",
      "metadata": {
        "id": "OVraZe95vm0p",
        "colab_type": "code",
        "colab": {}
      },
      "source": [
        "gjson = geo_df.to_crs(epsg='4326').to_json()\n",
        "gjson"
      ],
      "execution_count": 0,
      "outputs": []
    },
    {
      "cell_type": "code",
      "metadata": {
        "id": "QoElskTovoCJ",
        "colab_type": "code",
        "colab": {}
      },
      "source": [
        "geo_df.plot()"
      ],
      "execution_count": 0,
      "outputs": []
    },
    {
      "cell_type": "code",
      "metadata": {
        "id": "0nyFHO0fvpL6",
        "colab_type": "code",
        "colab": {}
      },
      "source": [
        "import folium"
      ],
      "execution_count": 0,
      "outputs": []
    },
    {
      "cell_type": "code",
      "metadata": {
        "id": "dz2jcJENcNh6",
        "colab_type": "code",
        "colab": {}
      },
      "source": [
        "#2.5 Exportar la data creada a un archivo shapefile y visualizar los datos usando Folium."
      ],
      "execution_count": 0,
      "outputs": []
    },
    {
      "cell_type": "code",
      "metadata": {
        "id": "kS-pFPjNqLHP",
        "colab_type": "code",
        "colab": {}
      },
      "source": [
        "depa = pd.read_excel(\"bici_sanisidro.xlsx\")\n",
        "depa\n"
      ],
      "execution_count": 0,
      "outputs": []
    },
    {
      "cell_type": "code",
      "metadata": {
        "id": "oNPWlQBpruJy",
        "colab_type": "code",
        "colab": {}
      },
      "source": [
        "bici_sanisidro.xlsx. convert(shape)"
      ],
      "execution_count": 0,
      "outputs": []
    },
    {
      "cell_type": "code",
      "metadata": {
        "id": "uMWvzeFEvOvZ",
        "colab_type": "code",
        "colab": {}
      },
      "source": [
        ""
      ],
      "execution_count": 0,
      "outputs": []
    },
    {
      "cell_type": "code",
      "metadata": {
        "id": "ylaP_VjGcOdS",
        "colab_type": "code",
        "colab": {}
      },
      "source": [
        "#2.6 Agregar el departamento que te corresponde(LIMA) al mapa folium. (leer archivo departamentos.json) *Extra"
      ],
      "execution_count": 0,
      "outputs": []
    },
    {
      "cell_type": "code",
      "metadata": {
        "id": "g-6ABR5_tYfj",
        "colab_type": "code",
        "colab": {}
      },
      "source": [
        ""
      ],
      "execution_count": 0,
      "outputs": []
    },
    {
      "cell_type": "code",
      "metadata": {
        "id": "7kvEpg5BcRRq",
        "colab_type": "code",
        "colab": {}
      },
      "source": [
        "#3. Explicar con tus propias palabras cada paso del ejercicio anterior. (5 puntos)"
      ],
      "execution_count": 0,
      "outputs": []
    },
    {
      "cell_type": "markdown",
      "metadata": {
        "id": "36lWlkrMrGhv",
        "colab_type": "text"
      },
      "source": [
        "Al principio nosotros creamos una lista, extraemos los datos pedidos"
      ]
    }
  ]
}